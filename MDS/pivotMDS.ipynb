{
 "cells": [
  {
   "cell_type": "code",
   "execution_count": 1,
   "metadata": {},
   "outputs": [],
   "source": [
    "import numpy as np\n",
    "import matplotlib.pyplot as plt\n",
    "from matplotlib import collections as mc\n",
    "MAX=float('inf')"
   ]
  },
  {
   "cell_type": "code",
   "execution_count": 2,
   "metadata": {},
   "outputs": [],
   "source": [
    "def readGraph(path):\n",
    "    data=np.loadtxt(path,dtype='int', delimiter=' ');\n",
    "    return data\n",
    "def maxtrixGraph(data):\n",
    "    maxPoint=0;\n",
    "    for item in data:\n",
    "        maxPoint=max(maxPoint,max(item[0],item[1]));\n",
    "    print(maxPoint);\n",
    "    matrix=np.zeros([maxPoint+1,maxPoint+1]); \n",
    "    for i in range(maxPoint+1):\n",
    "        for j in range(maxPoint+1):\n",
    "            if i==j:\n",
    "                matrix[i][j]=0;\n",
    "            else:\n",
    "                matrix[i][j]=MAX;\n",
    "    for item in data:\n",
    "        matrix[item[0]][item[1]]=1;\n",
    "        matrix[item[1]][item[0]]=1;\n",
    "    return matrix"
   ]
  },
  {
   "cell_type": "code",
   "execution_count": 3,
   "metadata": {},
   "outputs": [],
   "source": [
    "\n",
    "def dijkstra(matrix, start_node):\n",
    "    \n",
    "    #矩阵一维数组的长度，即节点的个数\n",
    "    matrix_length = len(matrix)\n",
    "\n",
    "    #访问过的节点数组\n",
    "    used_node = [False] * matrix_length\n",
    "\n",
    "    #最短路径距离数组\n",
    "    distance = [MAX] * matrix_length\n",
    "\n",
    "    #初始化，将起始节点的最短路径修改成0\n",
    "    distance[start_node] = 0\n",
    "    \n",
    "    #将访问节点中未访问的个数作为循环值，其实也可以用个点长度代替。\n",
    "    num=0;\n",
    "    while used_node.count(False):\n",
    "        num=num+1;\n",
    "        if num>matrix_length:\n",
    "            break;\n",
    "        min_value = float('inf')\n",
    "        min_value_index = 9999\n",
    "        \n",
    "        #在最短路径节点中找到最小值，已经访问过的不在参与循环。\n",
    "        #得到最小值下标，每循环一次肯定有一个最小值\n",
    "        for index in range(matrix_length):\n",
    "            if not used_node[index] and distance[index] < min_value:\n",
    "                min_value = distance[index]\n",
    "                min_value_index = index\n",
    "        \n",
    "        #将访问节点数组对应的值修改成True，标志其已经访问过了\n",
    "        if min_value_index!=9999:\n",
    "            used_node[min_value_index] = True\n",
    "\n",
    "        #更新distance数组。\n",
    "        #以B点为例：distance[x] 起始点达到B点的距离，\n",
    "        #distance[min_value_index] + matrix[min_value_index][index] 是起始点经过某点达到B点的距离，比较两个值，取较小的那个。\n",
    "        for index in range(matrix_length):\n",
    "            if min_value_index!=9999:\n",
    "                distance[index] = min(distance[index], distance[min_value_index] + matrix[min_value_index][index])\n",
    "\n",
    "    return distance\n"
   ]
  },
  {
   "cell_type": "code",
   "execution_count": 4,
   "metadata": {},
   "outputs": [],
   "source": [
    "#幂迭代法\n",
    "def power_iteration(A,num:int):\n",
    "    b_k = np.random.rand(A.shape[1]);\n",
    "    for i in range(num):\n",
    "        b_k1=np.dot(A,b_k);\n",
    "        b_k1_norm=np.linalg.norm(b_k1);\n",
    "        b_k = b_k1/b_k1_norm;\n",
    "    return b_k;"
   ]
  },
  {
   "cell_type": "code",
   "execution_count": 5,
   "metadata": {},
   "outputs": [],
   "source": [
    "def pivotMDS(matrix,k):\n",
    "    n=len(matrix);\n",
    "    dis=[];\n",
    "    for i in range(len(matrix)):\n",
    "        tmpd=dijkstra(matrix,i);\n",
    "        dis.append(tmpd);\n",
    "    for i in range(len(dis)):\n",
    "        for j in range(len(dis)):\n",
    "            if dis[i][j]==float('inf'):\n",
    "                dis[i][j]=0;\n",
    "    d=np.zeros([n,k]);\n",
    "    d=np.asarray(dis);\n",
    "    d=d[0:n,0:k];\n",
    "    d2=d**2;\n",
    "    deltaCol =d2.sum(axis=0)/n;\n",
    "    deltaRow =d2.sum(axis=1)/k;\n",
    "    sumALL = d2.sum()/(n*k);\n",
    "    C = np.zeros([n,k]);\n",
    "    for i in range(n):\n",
    "        for j in range(k):\n",
    "            d[i][j]\n",
    "            C[i][j];\n",
    "            deltaCol[j]\n",
    "            deltaRow[i]\n",
    "            C[i][j]=-(1.0/2)*(d[i][j]**2-deltaCol[j]-deltaRow[i]+sumALL);\n",
    "    B=np.dot(C.T,C);\n",
    "    V_1=power_iteration(B,100).reshape(1,-1);\n",
    "    lbd=np.dot(V_1,np.dot(B,V_1.T));\n",
    "    B_2=B-lbd/np.linalg.norm(V_1)**2*np.dot(V_1.T,V_1);\n",
    "    V_2=power_iteration(B_2,100);\n",
    "    ans=np.zeros([n,2]);\n",
    "    ans[:,0] = np.dot(C,V_1.reshape(-1,1)).reshape(-1)\n",
    "    ans[:,1] = np.dot(C,V_2.reshape(-1,1)).reshape(-1)\n",
    "    return ans;"
   ]
  },
  {
   "cell_type": "code",
   "execution_count": 6,
   "metadata": {},
   "outputs": [
    {
     "name": "stdout",
     "output_type": "stream",
     "text": [
      "99\n"
     ]
    }
   ],
   "source": [
    "file_name = 'test1.txt' \n",
    "data = readGraph(file_name);\n",
    "matrix=maxtrixGraph(data);"
   ]
  },
  {
   "cell_type": "code",
   "execution_count": 7,
   "metadata": {},
   "outputs": [
    {
     "name": "stdout",
     "output_type": "stream",
     "text": [
      "[[-4.7267659  -1.71718597]\n",
      " [-2.70786678  2.15361921]\n",
      " [-3.58193194  2.24092123]\n",
      " [-0.22931662  2.26667445]\n",
      " [-5.27970435  0.8608379 ]\n",
      " [-7.05864308 -1.90366967]\n",
      " [ 0.46049295  6.4236491 ]\n",
      " [-7.20951142  0.99907122]\n",
      " [ 4.70915947  2.50806519]\n",
      " [-3.79907398  0.09897976]\n",
      " [-4.38750303  0.90497274]\n",
      " [-9.34008011 -2.8396763 ]\n",
      " [ 4.8485474   1.58299851]\n",
      " [ 0.3114467   1.93820786]\n",
      " [-4.38750303  0.90497274]\n",
      " [-0.46125459  1.68388982]\n",
      " [ 5.98388709  1.78590765]\n",
      " [ 8.09573031  0.03725109]\n",
      " [-6.37345891 -0.28526753]\n",
      " [ 5.96851737  2.17450501]\n",
      " [17.94163706 -5.34409458]\n",
      " [-6.87784122 -1.56609884]\n",
      " [-6.19125293 -2.24222299]\n",
      " [ 8.86360557  0.71322426]\n",
      " [ 7.30925356  1.33048968]\n",
      " [ 6.67099874  1.58601166]\n",
      " [ 2.64584154  1.39176327]\n",
      " [ 8.73594296  0.23306906]\n",
      " [ 3.65426712  1.6270069 ]\n",
      " [ 1.57803914  2.11795209]\n",
      " [ 5.27842185  1.54646172]\n",
      " [-4.95889733 -1.15425922]\n",
      " [-6.0758092  -2.33889993]\n",
      " [-6.82779266 -2.83136589]\n",
      " [-6.87751231 -1.56571376]\n",
      " [11.47792276 -1.10822248]\n",
      " [11.14094833 -0.57818053]\n",
      " [-5.68327153 -0.64744558]\n",
      " [-3.76895323 -0.23362834]\n",
      " [ 0.48920185  6.06037172]\n",
      " [-1.29135458  0.57759879]\n",
      " [-7.77088113 -0.77864347]\n",
      " [ 6.39222578  1.33327405]\n",
      " [-1.17667374 -0.27038158]\n",
      " [-6.19441947 -1.84406798]\n",
      " [ 0.46041936  6.41712561]\n",
      " [ 1.08293528 -0.25971357]\n",
      " [ 1.25128127  0.53083104]\n",
      " [ 0.46041936  6.41712561]\n",
      " [-0.3084605  -0.16579981]\n",
      " [-6.96380142 -0.92645683]\n",
      " [ 0.59546205 -0.12054084]\n",
      " [ 0.44606492  6.59876431]\n",
      " [-1.93707375  0.85322806]\n",
      " [-6.00808833 -0.63017839]\n",
      " [-0.28904958 -0.63751333]\n",
      " [-7.64766888 -0.18626545]\n",
      " [-3.28408914 -1.78984061]\n",
      " [ 1.4244285  -0.23867823]\n",
      " [10.63199428 -6.71477001]\n",
      " [ 9.33131865 -1.3718338 ]\n",
      " [-7.61691662 -1.08403816]\n",
      " [ 2.66687619  2.47570479]\n",
      " [12.26080282 -1.68809464]\n",
      " [-4.23123613 -0.96092331]\n",
      " [-0.91414195  0.18080934]\n",
      " [ 0.48920185  6.06037172]\n",
      " [ 0.87345741  0.71309814]\n",
      " [-4.7285998  -2.27971148]\n",
      " [ 9.68359871 -3.35171721]\n",
      " [11.22244892 -1.20443119]\n",
      " [ 5.41965548  2.20765788]\n",
      " [ 3.46492493  0.35668561]\n",
      " [-6.84002922 -1.60173091]\n",
      " [-6.24417012 -1.79597329]\n",
      " [-0.91414195  0.18080934]\n",
      " [-6.83090486 -1.15100067]\n",
      " [ 0.48920185  6.06037172]\n",
      " [ 9.66718308 -2.08650068]\n",
      " [-4.04119351 -0.0306631 ]\n",
      " [-6.78717582 -1.59877301]\n",
      " [-1.10123944  0.14608418]\n",
      " [ 3.32400543  1.05362048]\n",
      " [-7.60708643 -1.01985256]\n",
      " [-4.1433094  -1.66272863]\n",
      " [-4.49312224 -1.97112166]\n",
      " [ 6.10706331 -4.8655524 ]\n",
      " [-5.32998283 -1.42699955]\n",
      " [11.65213841 -5.41881527]\n",
      " [-0.91414195  0.18080934]\n",
      " [ 0.35993823  7.68859647]\n",
      " [ 5.81911724 -5.24725936]\n",
      " [-4.1433094  -1.66272863]\n",
      " [-4.86375623 -2.23515383]\n",
      " [ 0.39819965 -5.8915166 ]\n",
      " [ 0.44606492  6.59876431]\n",
      " [ 0.48920185  6.06037172]\n",
      " [-8.633922   -8.20080767]\n",
      " [-5.59136139 -1.96257807]\n",
      " [12.57175445 -5.17328894]]\n"
     ]
    }
   ],
   "source": [
    "ans = pivotMDS(matrix,50);\n",
    "print(ans);"
   ]
  },
  {
   "cell_type": "code",
   "execution_count": 8,
   "metadata": {},
   "outputs": [
    {
     "name": "stderr",
     "output_type": "stream",
     "text": [
      "c:\\users\\administrator\\appdata\\local\\programs\\python\\python37\\lib\\site-packages\\ipykernel_launcher.py:4: MatplotlibDeprecationWarning: Adding an axes using the same arguments as a previous axes currently reuses the earlier instance.  In a future version, a new instance will always be created and returned.  Meanwhile, this warning can be suppressed, and the future behavior ensured, by passing a unique label to each axes instance.\n",
      "  after removing the cwd from sys.path.\n"
     ]
    },
    {
     "data": {
      "image/png": "[encoded data removed]",
      "text/plain": [
       "<Figure size 576x576 with 1 Axes>"
      ]
     },
     "metadata": {
      "needs_background": "light"
     },
     "output_type": "display_data"
    }
   ],
   "source": [
    "X=ans;\n",
    "plt.figure(figsize=(8,8))\n",
    "plt.axis('equal')\n",
    "ax = plt.axes()\n",
    "ax.set_xlim(min(ans[:,0])-10, max(ans[:,0])+10)\n",
    "ax.set_ylim(min(ans[:,1])-10, max(ans[:,1])+10)\n",
    "\n",
    "lines = []\n",
    "for item in data:\n",
    "    lines.append([ans[item[0]],ans[item[1]]]);\n",
    "lc = mc.LineCollection(lines, linewidths=.3, colors='#0000007f')\n",
    "ax.add_collection(lc)\n",
    "plt.show()"
   ]
  },
  {
   "cell_type": "code",
   "execution_count": null,
   "metadata": {},
   "outputs": [],
   "source": []
  },
  {
   "cell_type": "code",
   "execution_count": null,
   "metadata": {},
   "outputs": [],
   "source": []
  }
 ],
 "metadata": {
  "kernelspec": {
   "display_name": "Python 3",
   "language": "python",
   "name": "python3"
  },
  "language_info": {
   "codemirror_mode": {
    "name": "ipython",
    "version": 3
   },
   "file_extension": ".py",
   "mimetype": "text/x-python",
   "name": "python",
   "nbconvert_exporter": "python",
   "pygments_lexer": "ipython3",
   "version": "3.7.0"
  }
 },
 "nbformat": 4,
 "nbformat_minor": 4
}
