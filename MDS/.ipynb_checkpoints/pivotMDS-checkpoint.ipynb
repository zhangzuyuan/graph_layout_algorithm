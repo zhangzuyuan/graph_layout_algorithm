{
 "cells": [
  {
   "cell_type": "code",
   "execution_count": 1,
   "metadata": {},
   "outputs": [],
   "source": [
    "import numpy as np\n",
    "import matplotlib.pyplot as plt\n",
    "MAX=float('inf')"
   ]
  },
  {
   "cell_type": "code",
   "execution_count": 2,
   "metadata": {},
   "outputs": [],
   "source": [
    "def readGraph(path):\n",
    "    data=np.loadtxt(path,dtype='int', delimiter=' ');\n",
    "    return data\n",
    "def maxtrixGraph(data):\n",
    "    maxPoint=0;\n",
    "    for item in data:\n",
    "        maxPoint=max(maxPoint,max(item[0],item[1]));\n",
    "    print(maxPoint);\n",
    "    matrix=np.zeros([maxPoint+1,maxPoint+1]); \n",
    "    for i in range(maxPoint+1):\n",
    "        for j in range(maxPoint+1):\n",
    "            if i==j:\n",
    "                matrix[i][j]=0;\n",
    "            else:\n",
    "                matrix[i][j]=MAX;\n",
    "    for item in data:\n",
    "        matrix[item[0]][item[1]]=1;\n",
    "        matrix[item[1]][item[0]]=1;\n",
    "    return matrix"
   ]
  },
  {
   "cell_type": "code",
   "execution_count": 3,
   "metadata": {},
   "outputs": [],
   "source": [
    "\n",
    "def dijkstra(matrix, start_node):\n",
    "    \n",
    "    #矩阵一维数组的长度，即节点的个数\n",
    "    matrix_length = len(matrix)\n",
    "    print(matrix_length);\n",
    "\n",
    "    #访问过的节点数组\n",
    "    used_node = [False] * matrix_length\n",
    "\n",
    "    #最短路径距离数组\n",
    "    distance = [MAX] * matrix_length\n",
    "\n",
    "    #初始化，将起始节点的最短路径修改成0\n",
    "    distance[start_node] = 0\n",
    "    \n",
    "    #将访问节点中未访问的个数作为循环值，其实也可以用个点长度代替。\n",
    "    while used_node.count(False):\n",
    "        min_value = float('inf')\n",
    "        min_value_index = 9999\n",
    "        \n",
    "        #在最短路径节点中找到最小值，已经访问过的不在参与循环。\n",
    "        #得到最小值下标，每循环一次肯定有一个最小值\n",
    "        for index in range(matrix_length):\n",
    "            if not used_node[index] and distance[index] < min_value:\n",
    "                min_value = distance[index]\n",
    "                min_value_index = index\n",
    "        \n",
    "        #将访问节点数组对应的值修改成True，标志其已经访问过了\n",
    "        if min_value_index!=9999:\n",
    "            used_node[min_value_index] = True\n",
    "\n",
    "        #更新distance数组。\n",
    "        #以B点为例：distance[x] 起始点达到B点的距离，\n",
    "        #distance[min_value_index] + matrix[min_value_index][index] 是起始点经过某点达到B点的距离，比较两个值，取较小的那个。\n",
    "        for index in range(matrix_length):\n",
    "            if min_value_index!=9999:\n",
    "                distance[index] = min(distance[index], distance[min_value_index] + matrix[min_value_index][index])\n",
    "\n",
    "    return distance\n"
   ]
  },
  {
   "cell_type": "code",
   "execution_count": 4,
   "metadata": {},
   "outputs": [],
   "source": [
    "#幂迭代法\n",
    "def power_iteration(A,num:int):\n",
    "    b_k = np.random.rand(A.shape[1]);\n",
    "    for i in range(num):\n",
    "        b_k1=np.dot(A,b_k);\n",
    "        b_k1_norm=np.linalg.norm(b_k1);\n",
    "        b_k = b_k1/b_k1_norm;\n",
    "    return b_k;"
   ]
  },
  {
   "cell_type": "code",
   "execution_count": 5,
   "metadata": {},
   "outputs": [],
   "source": [
    "def pivotMDS(matrix,k):\n",
    "    n=len(matrix);\n",
    "    d=[];\n",
    "    for i in range(len(matrix)):\n",
    "        print(i);\n",
    "        tmpd=dijkstra(matrix,i);\n",
    "        print(tmpd);\n",
    "        d.append(tmpd);\n",
    "    d[np.isinf(d)] = 0\n",
    "    (n,k)=d.shape;\n",
    "    d2=d**2;\n",
    "    deltaRow =d2.sum(axis=0)/k; \n",
    "    deltaCol =d2.sum(axis=1)/n;\n",
    "    sumALL = d2.sum()/(n*k);\n",
    "    C = np.zeros([n,k]);\n",
    "    for i in range(n):\n",
    "        for j in range(k):\n",
    "            C[i][j]=-(1.0/2)*(d[i][j]**2-deltaCol[j]-deltaRow[i]+sumALL);\n",
    "    B=np.dot(C.T,C);\n",
    "    V_1=power_iteration(B,100).reshape(1,-1);\n",
    "    lbd=np.dot(V_1,np.dot(B,V_1.T));\n",
    "    B_2=B-lbd/np.linalg.norm(V_1)**2*np.dot(V_1.T,V_1);\n",
    "    V_2=power_iteration(B_2,100);\n",
    "    ans=np.zeros([n,2]);\n",
    "    ans[:,0] = np.dot(C,V_1.reshape(-1,1)).reshape(-1)\n",
    "    ans[:,1] = np.dot(C,V_2.reshape(-1,1)).reshape(-1)\n",
    "    return ans;"
   ]
  },
  {
   "cell_type": "code",
   "execution_count": 6,
   "metadata": {},
   "outputs": [
    {
     "name": "stdout",
     "output_type": "stream",
     "text": [
      "96\n"
     ]
    }
   ],
   "source": [
    "file_name = 'text.txt' \n",
    "data = readGraph(file_name);\n",
    "matrix=maxtrixGraph(data);"
   ]
  },
  {
   "cell_type": "code",
   "execution_count": 7,
   "metadata": {},
   "outputs": [
    {
     "name": "stdout",
     "output_type": "stream",
     "text": [
      "0\n",
      "97\n"
     ]
    },
    {
     "ename": "IndexError",
     "evalue": "list index out of range",
     "output_type": "error",
     "traceback": [
      "\u001b[1;31m---------------------------------------------------------------------------\u001b[0m",
      "\u001b[1;31mIndexError\u001b[0m                                Traceback (most recent call last)",
      "\u001b[1;32m<ipython-input-7-3afee68ce481>\u001b[0m in \u001b[0;36m<module>\u001b[1;34m\u001b[0m\n\u001b[1;32m----> 1\u001b[1;33m \u001b[0mans\u001b[0m \u001b[1;33m=\u001b[0m \u001b[0mpivotMDS\u001b[0m\u001b[1;33m(\u001b[0m\u001b[0mmatrix\u001b[0m\u001b[1;33m,\u001b[0m\u001b[1;36m100\u001b[0m\u001b[1;33m)\u001b[0m\u001b[1;33m;\u001b[0m\u001b[1;33m\u001b[0m\u001b[1;33m\u001b[0m\u001b[0m\n\u001b[0m",
      "\u001b[1;32m<ipython-input-5-97cc00ee6c45>\u001b[0m in \u001b[0;36mpivotMDS\u001b[1;34m(matrix, k)\u001b[0m\n\u001b[0;32m      4\u001b[0m     \u001b[1;32mfor\u001b[0m \u001b[0mi\u001b[0m \u001b[1;32min\u001b[0m \u001b[0mrange\u001b[0m\u001b[1;33m(\u001b[0m\u001b[0mlen\u001b[0m\u001b[1;33m(\u001b[0m\u001b[0mmatrix\u001b[0m\u001b[1;33m)\u001b[0m\u001b[1;33m)\u001b[0m\u001b[1;33m:\u001b[0m\u001b[1;33m\u001b[0m\u001b[1;33m\u001b[0m\u001b[0m\n\u001b[0;32m      5\u001b[0m         \u001b[0mprint\u001b[0m\u001b[1;33m(\u001b[0m\u001b[0mi\u001b[0m\u001b[1;33m)\u001b[0m\u001b[1;33m;\u001b[0m\u001b[1;33m\u001b[0m\u001b[1;33m\u001b[0m\u001b[0m\n\u001b[1;32m----> 6\u001b[1;33m         \u001b[0mtmpd\u001b[0m\u001b[1;33m=\u001b[0m\u001b[0mdijkstra\u001b[0m\u001b[1;33m(\u001b[0m\u001b[0mmatrix\u001b[0m\u001b[1;33m,\u001b[0m\u001b[0mi\u001b[0m\u001b[1;33m)\u001b[0m\u001b[1;33m;\u001b[0m\u001b[1;33m\u001b[0m\u001b[1;33m\u001b[0m\u001b[0m\n\u001b[0m\u001b[0;32m      7\u001b[0m         \u001b[0mprint\u001b[0m\u001b[1;33m(\u001b[0m\u001b[0mtmpd\u001b[0m\u001b[1;33m)\u001b[0m\u001b[1;33m;\u001b[0m\u001b[1;33m\u001b[0m\u001b[1;33m\u001b[0m\u001b[0m\n\u001b[0;32m      8\u001b[0m         \u001b[0md\u001b[0m\u001b[1;33m.\u001b[0m\u001b[0mappend\u001b[0m\u001b[1;33m(\u001b[0m\u001b[0mtmpd\u001b[0m\u001b[1;33m)\u001b[0m\u001b[1;33m;\u001b[0m\u001b[1;33m\u001b[0m\u001b[1;33m\u001b[0m\u001b[0m\n",
      "\u001b[1;32m<ipython-input-3-eabf0225a6a6>\u001b[0m in \u001b[0;36mdijkstra\u001b[1;34m(matrix, start_node)\u001b[0m\n\u001b[0;32m     34\u001b[0m         \u001b[1;31m#distance[min_value_index] + matrix[min_value_index][index] 是起始点经过某点达到B点的距离，比较两个值，取较小的那个。\u001b[0m\u001b[1;33m\u001b[0m\u001b[1;33m\u001b[0m\u001b[1;33m\u001b[0m\u001b[0m\n\u001b[0;32m     35\u001b[0m         \u001b[1;32mfor\u001b[0m \u001b[0mindex\u001b[0m \u001b[1;32min\u001b[0m \u001b[0mrange\u001b[0m\u001b[1;33m(\u001b[0m\u001b[0mmatrix_length\u001b[0m\u001b[1;33m)\u001b[0m\u001b[1;33m:\u001b[0m\u001b[1;33m\u001b[0m\u001b[1;33m\u001b[0m\u001b[0m\n\u001b[1;32m---> 36\u001b[1;33m             \u001b[0mdistance\u001b[0m\u001b[1;33m[\u001b[0m\u001b[0mindex\u001b[0m\u001b[1;33m]\u001b[0m \u001b[1;33m=\u001b[0m \u001b[0mmin\u001b[0m\u001b[1;33m(\u001b[0m\u001b[0mdistance\u001b[0m\u001b[1;33m[\u001b[0m\u001b[0mindex\u001b[0m\u001b[1;33m]\u001b[0m\u001b[1;33m,\u001b[0m \u001b[0mdistance\u001b[0m\u001b[1;33m[\u001b[0m\u001b[0mmin_value_index\u001b[0m\u001b[1;33m]\u001b[0m \u001b[1;33m+\u001b[0m \u001b[0mmatrix\u001b[0m\u001b[1;33m[\u001b[0m\u001b[0mmin_value_index\u001b[0m\u001b[1;33m]\u001b[0m\u001b[1;33m[\u001b[0m\u001b[0mindex\u001b[0m\u001b[1;33m]\u001b[0m\u001b[1;33m)\u001b[0m\u001b[1;33m\u001b[0m\u001b[1;33m\u001b[0m\u001b[0m\n\u001b[0m\u001b[0;32m     37\u001b[0m \u001b[1;33m\u001b[0m\u001b[0m\n\u001b[0;32m     38\u001b[0m     \u001b[1;32mreturn\u001b[0m \u001b[0mdistance\u001b[0m\u001b[1;33m\u001b[0m\u001b[1;33m\u001b[0m\u001b[0m\n",
      "\u001b[1;31mIndexError\u001b[0m: list index out of range"
     ]
    }
   ],
   "source": [
    "ans = pivotMDS(matrix,100);"
   ]
  },
  {
   "cell_type": "code",
   "execution_count": null,
   "metadata": {},
   "outputs": [],
   "source": [
    "plt.figure(figsize=(32,32))\n",
    "plt.axis('equal')\n",
    "ax = plt.axes()\n",
    "ax.set_xlim(min(X[:,0])-10, max(X[:,0])+10)\n",
    "ax.set_ylim(min(X[:,1])-10, max(X[:,1])+10)\n",
    "\n",
    "lines = []\n",
    "for i,j in zip(*graph.nonzero()):\n",
    "    lines.append([X[i], X[j]])\n",
    "\n",
    "lc = mc.LineCollection(lines, linewidths=.3, colors='#0000007f')\n",
    "ax.add_collection(lc)\n",
    "plt.savefig('../result/' + graph_name + '.pdf', dpi=1000)\n",
    "plt.show()"
   ]
  }
 ],
 "metadata": {
  "kernelspec": {
   "display_name": "Python 3",
   "language": "python",
   "name": "python3"
  },
  "language_info": {
   "codemirror_mode": {
    "name": "ipython",
    "version": 3
   },
   "file_extension": ".py",
   "mimetype": "text/x-python",
   "name": "python",
   "nbconvert_exporter": "python",
   "pygments_lexer": "ipython3",
   "version": "3.8.3"
  }
 },
 "nbformat": 4,
 "nbformat_minor": 4
}
